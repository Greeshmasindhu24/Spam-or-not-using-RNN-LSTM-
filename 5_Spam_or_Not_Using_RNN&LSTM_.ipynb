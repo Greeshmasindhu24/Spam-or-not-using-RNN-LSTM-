{
  "nbformat": 4,
  "nbformat_minor": 0,
  "metadata": {
    "colab": {
      "provenance": [],
      "gpuType": "T4",
      "mount_file_id": "1jc8xpTcfTK8SCxxUTHcVezV-RxigfvXJ",
      "authorship_tag": "ABX9TyNJZMl9R68jYOAewSDGfEBR",
      "include_colab_link": true
    },
    "kernelspec": {
      "name": "python3",
      "display_name": "Python 3"
    },
    "language_info": {
      "name": "python"
    },
    "accelerator": "GPU"
  },
  "cells": [
    {
      "cell_type": "markdown",
      "metadata": {
        "id": "view-in-github",
        "colab_type": "text"
      },
      "source": [
        "<a href=\"https://colab.research.google.com/github/Greeshmasindhu24/Spam-or-not-using-RNN-LSTM-/blob/main/5_Spam_or_Not_Using_RNN%26LSTM_.ipynb\" target=\"_parent\"><img src=\"https://colab.research.google.com/assets/colab-badge.svg\" alt=\"Open In Colab\"/></a>"
      ]
    },
    {
      "cell_type": "code",
      "source": [
        "import pandas as pd\n",
        "import string\n",
        "from sklearn.model_selection import train_test_split\n",
        "import tensorflow as tf\n",
        "import keras\n",
        "from tensorflow.keras.models import Sequential\n",
        "from tensorflow.keras.layers import Embedding, LSTM, Dense, Dropout\n",
        "from tensorflow.keras.preprocessing.text import Tokenizer\n",
        "from tensorflow.keras.preprocessing.sequence import pad_sequences\n",
        "\n",
        "df = pd.read_csv('/content/drive/MyDrive/Hands on/spam.csv', encoding='latin-1')#reading csv file\n",
        "df['Message'] = df['Message'].str.lower().replace('[^\\w\\s]', '', regex=True)\n",
        "df['Category'] = df['Category'].map({'ham': 0, 'spam': 1})\n",
        "\n",
        "# using train_test_split\n",
        "X_train, X_test, y_train, y_test = train_test_split(\n",
        "    df['Message'], df['Category'], test_size=0.2, random_state=42)\n",
        "tokenizer = Tokenizer(num_words=500)\n",
        "tokenizer.fit_on_texts(X_train)\n",
        "max_length = 100\n",
        "X_train = pad_sequences(tokenizer.texts_to_sequences(X_train), maxlen=max_length)\n",
        "X_test = pad_sequences(tokenizer.texts_to_sequences(X_test), maxlen=max_length)\n",
        "\n",
        "# model building\n",
        "model = Sequential([\n",
        "    Embedding(5000, 64, input_length=max_length),\n",
        "    LSTM(64),\n",
        "    Dense(32, activation='relu'),\n",
        "    Dropout(0.5),\n",
        "    Dense(1, activation='sigmoid')\n",
        "])\n",
        "model.compile(loss='binary_crossentropy', optimizer='adam', metrics=['accuracy'])\n",
        "model.fit(X_train, y_train, epochs=3, batch_size=64, validation_split=0.2)\n",
        "\n",
        "#  function for predicting spam or not\n",
        "def predict(msg):\n",
        "    seq = tokenizer.texts_to_sequences([msg.lower()])\n",
        "    padded = pad_sequences(seq, maxlen=max_length)\n",
        "    pred = model.predict(padded)[0][0]\n",
        "    return \"SPAM\" if pred > 0.5 else \"HAM\", pred\n",
        "\n",
        "while True:\n",
        "  msg = input(\"\\nEnter message (or 'exit'): \")\n",
        "  if msg.lower() == 'exit':\n",
        "    break\n",
        "  result, conf = predict(msg)\n",
        "  print(f\"{result} ({conf:.2%} Accuracy)\")"
      ],
      "metadata": {
        "colab": {
          "base_uri": "https://localhost:8080/"
        },
        "id": "A15XrS7RDG4N",
        "outputId": "dcca3546-d3d3-4ad7-d178-966ed3951bf0"
      },
      "execution_count": null,
      "outputs": [
        {
          "output_type": "stream",
          "name": "stderr",
          "text": [
            "/usr/local/lib/python3.11/dist-packages/keras/src/layers/core/embedding.py:90: UserWarning: Argument `input_length` is deprecated. Just remove it.\n",
            "  warnings.warn(\n"
          ]
        },
        {
          "output_type": "stream",
          "name": "stdout",
          "text": [
            "Epoch 1/3\n",
            "\u001b[1m56/56\u001b[0m \u001b[32m━━━━━━━━━━━━━━━━━━━━\u001b[0m\u001b[37m\u001b[0m \u001b[1m8s\u001b[0m 18ms/step - accuracy: 0.8327 - loss: 0.4792 - val_accuracy: 0.9484 - val_loss: 0.1731\n",
            "Epoch 2/3\n",
            "\u001b[1m56/56\u001b[0m \u001b[32m━━━━━━━━━━━━━━━━━━━━\u001b[0m\u001b[37m\u001b[0m \u001b[1m6s\u001b[0m 15ms/step - accuracy: 0.9665 - loss: 0.1461 - val_accuracy: 0.9742 - val_loss: 0.0902\n",
            "Epoch 3/3\n",
            "\u001b[1m56/56\u001b[0m \u001b[32m━━━━━━━━━━━━━━━━━━━━\u001b[0m\u001b[37m\u001b[0m \u001b[1m1s\u001b[0m 12ms/step - accuracy: 0.9826 - loss: 0.0648 - val_accuracy: 0.9720 - val_loss: 0.0883\n",
            "\n",
            "Enter message (or 'exit'): Tell me something. Thats okay\n",
            "\u001b[1m1/1\u001b[0m \u001b[32m━━━━━━━━━━━━━━━━━━━━\u001b[0m\u001b[37m\u001b[0m \u001b[1m0s\u001b[0m 123ms/step\n",
            "HAM (0.16% Accuracy)\n"
          ]
        }
      ]
    }
  ]
}